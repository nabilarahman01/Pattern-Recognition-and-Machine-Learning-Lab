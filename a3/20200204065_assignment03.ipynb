{
  "nbformat": 4,
  "nbformat_minor": 0,
  "metadata": {
    "colab": {
      "provenance": []
    },
    "kernelspec": {
      "name": "python3",
      "display_name": "Python 3"
    },
    "language_info": {
      "name": "python"
    }
  },
  "cells": [
    {
      "cell_type": "code",
      "execution_count": 4,
      "metadata": {
        "id": "gn6rbCYLc8I5"
      },
      "outputs": [],
      "source": [
        "import numpy as np\n",
        "import pandas as pd\n",
        "import matplotlib.pyplot as plt"
      ]
    },
    {
      "cell_type": "code",
      "source": [
        "train_data=pd.read_csv('train_knn.txt',sep=',', header=None)\n",
        "train_data=train_data.values\n",
        "train_data"
      ],
      "metadata": {
        "colab": {
          "base_uri": "https://localhost:8080/"
        },
        "collapsed": true,
        "id": "ovAjX7ifdDUB",
        "outputId": "01c5f795-0eb3-4d95-ce84-9ddb43310fc8"
      },
      "execution_count": 5,
      "outputs": [
        {
          "output_type": "execute_result",
          "data": {
            "text/plain": [
              "array([[7, 7, 1],\n",
              "       [7, 4, 1],\n",
              "       [6, 4, 1],\n",
              "       [7, 5, 1],\n",
              "       [7, 6, 1],\n",
              "       [6, 7, 1],\n",
              "       [6, 6, 1],\n",
              "       [3, 4, 2],\n",
              "       [2, 3, 2],\n",
              "       [3, 2, 2],\n",
              "       [4, 3, 2],\n",
              "       [3, 3, 2],\n",
              "       [4, 4, 2],\n",
              "       [1, 4, 2]])"
            ]
          },
          "metadata": {},
          "execution_count": 5
        }
      ]
    },
    {
      "cell_type": "code",
      "source": [
        "test_data=pd.read_csv('test_knn.txt',sep=',', header=None)\n",
        "test_data=test_data.values\n",
        "test_data"
      ],
      "metadata": {
        "colab": {
          "base_uri": "https://localhost:8080/"
        },
        "collapsed": true,
        "id": "O0mrv5EEeIKZ",
        "outputId": "0f9fd667-a895-4513-d9a5-e99a99d4a33c"
      },
      "execution_count": 6,
      "outputs": [
        {
          "output_type": "execute_result",
          "data": {
            "text/plain": [
              "array([[3, 7],\n",
              "       [7, 7],\n",
              "       [4, 3],\n",
              "       [2, 8],\n",
              "       [3, 5],\n",
              "       [1, 2],\n",
              "       [4, 8],\n",
              "       [8, 3],\n",
              "       [8, 4]])"
            ]
          },
          "metadata": {},
          "execution_count": 6
        }
      ]
    },
    {
      "cell_type": "code",
      "source": [
        "plt.figure(figsize=(8, 5))\n",
        "\n",
        "#plt.subplot(1, 2, 1)\n",
        "for point in train_data:\n",
        "    if point[2] == 1:\n",
        "        plt.scatter(point[0], point[1], c='red', marker='>')\n",
        "    else:\n",
        "        plt.scatter(point[0], point[1], c='blue', marker='x')\n",
        "plt.title(\"Training Data\")\n",
        "plt.xlabel('X1')\n",
        "plt.ylabel('X2')"
      ],
      "metadata": {
        "colab": {
          "base_uri": "https://localhost:8080/",
          "height": 504
        },
        "id": "KGv8_Xz1e2KW",
        "outputId": "2ff1729f-d6e6-408e-e2e3-26530f9f23b2"
      },
      "execution_count": 7,
      "outputs": [
        {
          "output_type": "execute_result",
          "data": {
            "text/plain": [
              "Text(0, 0.5, 'X2')"
            ]
          },
          "metadata": {},
          "execution_count": 7
        },
        {
          "output_type": "display_data",
          "data": {
            "text/plain": [
              "<Figure size 800x500 with 1 Axes>"
            ],
            "image/png": "[encoded data removed]"
          },
          "metadata": {}
        }
      ]
    },
    {
      "cell_type": "code",
      "source": [
        "#k = int(input(\"Enter the value of K: \"))"
      ],
      "metadata": {
        "id": "mPzOjpN2gohZ"
      },
      "execution_count": 8,
      "outputs": []
    },
    {
      "cell_type": "code",
      "source": [
        "def euclidean_distance(point1, point2):\n",
        "    return np.sqrt(np.sum((point1 - point2) ** 2))\n",
        "\n",
        "def knn(train_data, test_point, k):\n",
        "    distances = []\n",
        "    for point in train_data:\n",
        "        distance = euclidean_distance(point[:2], test_point)\n",
        "        distances.append((distance, point[2]))\n",
        "    distances.sort(key=lambda x: x[0])\n",
        "    return distances[:k]\n",
        "\n",
        "def predict_class(knn_result):\n",
        "    class_counts = {}\n",
        "    for _, class_label in knn_result:\n",
        "        if class_label in class_counts:\n",
        "            class_counts[class_label] += 1\n",
        "        else:\n",
        "            class_counts[class_label] = 1\n",
        "    return max(class_counts, key=class_counts.get)\n",
        "\n",
        "\n",
        "def main():\n",
        "    # Get the value of K from the user\n",
        "    k = int(input(\"Enter the value of K: \"))\n",
        "\n",
        "    with open('prediction.txt', 'w') as f:\n",
        "        for test_point in test_data:\n",
        "            knn_result = knn(train_data, test_point[:2], k)\n",
        "            predicted_class = predict_class(knn_result)\n",
        "\n",
        "            f.write(f'Test point: {test_point[0]}, {test_point[1]}\\n')\n",
        "            for i, (distance, class_label) in enumerate(knn_result):\n",
        "                f.write(f'Distance {i+1}: {distance:.2f} Class: {class_label}\\n')\n",
        "            f.write(f'Predicted class: {predicted_class}\\n\\n')\n",
        "\n",
        "    print(\"printed to prediction\")\n",
        "\n",
        "    # Plot the test data with predictions\n",
        "    plt.figure(figsize=(8, 5))\n",
        "    for test_point in test_data:\n",
        "        knn_result = knn(train_data, test_point[:2], k)\n",
        "        predicted_class = predict_class(knn_result)\n",
        "\n",
        "        if predicted_class == 1:\n",
        "            plt.scatter(test_point[0], test_point[1], c='red', marker='>')\n",
        "        else:\n",
        "            plt.scatter(test_point[0], test_point[1], c='blue', marker='x')\n",
        "\n",
        "    plt.title(\"Test Data with Predictions\")\n",
        "\n",
        "    plt.xlabel('X1')\n",
        "    plt.ylabel('X2')\n",
        "    plt.show()\n",
        "\n",
        "if __name__ == \"__main__\":\n",
        "    main()"
      ],
      "metadata": {
        "colab": {
          "base_uri": "https://localhost:8080/",
          "height": 522
        },
        "id": "LZgwXOio8UxY",
        "outputId": "7797f1b6-55cd-4157-ced2-b2989d9b0bb5"
      },
      "execution_count": 13,
      "outputs": [
        {
          "output_type": "stream",
          "name": "stdout",
          "text": [
            "Enter the value of K: 5\n",
            "printed to prediction\n"
          ]
        },
        {
          "output_type": "display_data",
          "data": {
            "text/plain": [
              "<Figure size 800x500 with 1 Axes>"
            ],
            "image/png": "[encoded data removed]"
          },
          "metadata": {}
        }
      ]
    }
  ]
}